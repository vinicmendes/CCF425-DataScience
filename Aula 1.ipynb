{
  "cells": [
    {
      "cell_type": "markdown",
      "metadata": {
        "id": "v9b5EcQz_YB5"
      },
      "source": [
        "> Introdução à Ciência dos Dados \\\n",
        "> Ciência da Computação – UFV/Florestal\n",
        "\n",
        "\n",
        "# Aula Prática 01\n",
        "##  Conhecendo o Ambiente e Manipulando Estruturas de Uma Dimensão\n",
        "\n",
        "**Objetivo:** Conhecer o ambiente de desenvolvimento \\\n",
        "**Pré-requisitos:** Linguagem de programação Python \\\n",
        "**Meta:** Ao final da prática, o aluno será capaz de iniciar o ambiente de desenvolvimento e executar comandos na linguagem Python para manipular uma estrutura de dados de uma dimensão.\n",
        "\n",
        "----"
      ]
    },
    {
      "cell_type": "markdown",
      "metadata": {
        "id": "OVf4E3va_YB-"
      },
      "source": [
        "## Introdução\n",
        "\n",
        "A ferramenta de desenvolvimento a ser utilizada é chamada Jupyter Notebook. Com ela, é possível executar comandos para análises de dados isoladamente, sem precisar executar todo o código sempre que for preciso fazer algum ajuste. Você pode instalar localmente na sua máquina o [Jupyter Notebook](https://jupyter.org) ou utilizar o [Google Colab](https://colab.research.google.com).\n",
        "\n",
        "A principal API de desenvolvimento que será utilizada é chamada de [Pandas](https://pandas.pydata.org). Com ela, é possível manipular estruturas de dados complexas para análises de dados.\n",
        "\n",
        "Dentro da API Pandas, uma estrutura 1-dimensional é a Series. Uma Serie é similar a um arranjo nas linguagens de programação, com algumas características particulares que a torna mais poderosa que as estruturas de arranjos e listas tradicionais.\n",
        "\n",
        "Seguindo o roteiro abaixo, você deverá utilizar o Jupyter Notebook ou Google Colab para manipular algumas estruturas do tipo Series.\n",
        "\n",
        "Para instalar as ferramentas e as bibliotecas necessárias, você pode seguir o tutorial que está no PVANet.\n"
      ]
    },
    {
      "cell_type": "code",
      "execution_count": null,
      "metadata": {
        "id": "W09QN2cs_cQ_"
      },
      "outputs": [],
      "source": [
        "### NÃO REMOVA ESSA CÉLULA! ####\n",
        "!pip install learntools_dados_ufv"
      ]
    },
    {
      "cell_type": "code",
      "execution_count": null,
      "metadata": {
        "id": "_X9J3UPRX7_6"
      },
      "outputs": [],
      "source": [
        "#### Não altere essa célula!!! ####\n",
        "import pandas as pd\n",
        "import random\n",
        "\n",
        "from learntools_dados_ufv.core import binder; binder.bind(globals())\n",
        "from learntools_dados_ufv.ccf425.pratica_1 import *"
      ]
    },
    {
      "cell_type": "markdown",
      "metadata": {
        "id": "3LWiNtDCX7_7"
      },
      "source": [
        "## 1. Gere uma Serie com 500 valores inteiros aleatórios entre -1000 e 1000\n",
        "Armazene-o na variável `series`. \n",
        "\n",
        "Chame a função `q1.check()` no fim da célula para verificar a resposta.\n",
        "Você pode pedir dicas com `q1.hint()`"
      ]
    },
    {
      "cell_type": "code",
      "execution_count": null,
      "metadata": {
        "id": "TxEmCjTx_YCB"
      },
      "outputs": [],
      "source": [
        "# q1.hint()\n",
        "rand = (random.sample(range(-1000,1000),500))\n",
        "series = pd.Series(rand)\n",
        "print(series)\n",
        "\n",
        "q1.check()"
      ]
    },
    {
      "cell_type": "markdown",
      "metadata": {
        "id": "pp_1vrN-_YCB"
      },
      "source": [
        "## 2. Recupere o maior valor da Série\n",
        "Armazene-o na variável `series_max`. \n",
        "\n",
        "Chame a função `q2.check()` no fim da célula para verificar a resposta.\n",
        "Você pode pedir dicas com `q2.hint()`"
      ]
    },
    {
      "cell_type": "code",
      "execution_count": null,
      "metadata": {
        "id": "oW9iunTR_YCC"
      },
      "outputs": [],
      "source": [
        "# q2.hint()\n",
        "\n",
        "series_max = max(series)\n",
        "print(series_max)\n",
        "\n",
        "q2.check()"
      ]
    },
    {
      "cell_type": "markdown",
      "metadata": {
        "id": "3VTP92eW_YCD"
      },
      "source": [
        "## 3. Recupere o menor valor da Série\n",
        "Armazene-o na variável `series_min`.\n",
        "\n",
        "Chame a função `q3.check()` no fim da célula para verificar a resposta.\n",
        "Você pode pedir dicas com `q3.hint()`"
      ]
    },
    {
      "cell_type": "code",
      "execution_count": null,
      "metadata": {
        "id": "7FK2oejP_YCE"
      },
      "outputs": [],
      "source": [
        "# q3.hint()\n",
        "\n",
        "series_min = min(series)\n",
        "print(series_min)\n",
        "\n",
        "q3.check()"
      ]
    },
    {
      "cell_type": "markdown",
      "metadata": {
        "id": "zKImcTgi_YCF"
      },
      "source": [
        "## 4. Recupere somente os valores positivos da Série\n",
        "Armazene-os na variável `series_positives`.\n",
        "\n",
        "Chame a função `q4.check()` no fim da célula para verificar a resposta.\n",
        "Você pode pedir dicas com `q4.hint()`"
      ]
    },
    {
      "cell_type": "code",
      "execution_count": null,
      "metadata": {
        "id": "Zq6yBor2_YCF"
      },
      "outputs": [],
      "source": [
        "# q4.hint()\n",
        "\n",
        "series_positives = series[series > 0]\n",
        "print(series_positives)\n",
        "\n",
        "q4.check()"
      ]
    },
    {
      "cell_type": "markdown",
      "metadata": {
        "id": "aZRr9TZL_YCG"
      },
      "source": [
        "## 5. Recupere somente os valores ímpares da Série\n",
        "Armazene-os na variável `series_odds`.\n",
        "\n",
        "Chame a função `q5.check()` no fim da célula para verificar a resposta.\n",
        "Você pode pedir dicas com `q5.hint()`"
      ]
    },
    {
      "cell_type": "code",
      "execution_count": null,
      "metadata": {
        "id": "s5XgfoOv_YCG"
      },
      "outputs": [],
      "source": [
        "# q5.hint()\n",
        "\n",
        "series_odds = series[series % 2 != 0]\n",
        "print(series_odds)\n",
        "\n",
        "q5.check()"
      ]
    },
    {
      "cell_type": "markdown",
      "metadata": {
        "id": "KMz-69mj_YCH"
      },
      "source": [
        "## 6. Recupere somente os valores das posições/índices de 50 a 100 (inclusive) da Série\n",
        "Armazene-os na variável `series_range`.\n",
        "\n",
        "Chame a função `q6.check()` no fim da célula para verificar a resposta.\n",
        "Você pode pedir dicas com `q6.hint(n)` onde n é o número da dica."
      ]
    },
    {
      "cell_type": "code",
      "execution_count": null,
      "metadata": {
        "id": "z4DhEQcl_YCH"
      },
      "outputs": [],
      "source": [
        "# q6.hint()\n",
        "\n",
        "series_range = series[50:101]\n",
        "print(series_range)\n",
        "\n",
        "q6.check()"
      ]
    },
    {
      "cell_type": "markdown",
      "metadata": {
        "id": "PUJQdeCM_YCH"
      },
      "source": [
        "## 7. Recupere a quantidade de valores pares da Série\n",
        "Armazene-o na variável `series_even_size`.\n",
        "\n",
        "Chame a função `q7.check()` no fim da célula para verificar a resposta.\n",
        "Você pode pedir dicas com `q7.hint(n)` onde n é o número da dica."
      ]
    },
    {
      "cell_type": "code",
      "execution_count": null,
      "metadata": {
        "colab": {
          "base_uri": "https://localhost:8080/",
          "height": 64
        },
        "id": "I-8dk7HC_YCI",
        "outputId": "94b3b47c-5a52-4427-8271-ea0c81013e7e"
      },
      "outputs": [
        {
          "name": "stdout",
          "output_type": "stream",
          "text": [
            "248\n"
          ]
        },
        {
          "data": {
            "application/javascript": "parent.postMessage({\"jupyterEvent\": \"custom.exercise_interaction\", \"data\": {\"outcomeType\": 1, \"valueTowardsCompletion\": 0.1, \"interactionType\": 1, \"questionType\": 2, \"questionId\": \"7_Q7\", \"learnToolsVersion\": \"1.0.4\", \"failureMessage\": \"\", \"exceptionClass\": \"\", \"trace\": \"\"}}, \"*\")",
            "text/plain": [
              "<IPython.core.display.Javascript object>"
            ]
          },
          "metadata": {},
          "output_type": "display_data"
        },
        {
          "data": {
            "text/markdown": [
              "<span style=\"color:#33cc33\">CORRETO:</span> \n",
              "\n"
            ],
            "text/plain": [
              "CORRETO: \n"
            ]
          },
          "metadata": {},
          "output_type": "display_data"
        }
      ],
      "source": [
        "# q7.hint()\n",
        "\n",
        "series_even_size = len(series[series % 2 ==0])\n",
        "print(series_even_size)\n",
        "\n",
        "q7.check()"
      ]
    },
    {
      "cell_type": "markdown",
      "metadata": {
        "id": "Bong0Fb2_YCI"
      },
      "source": [
        "## 8. Recupere a quantidade de valores da Série maiores que 500\n",
        "Armazene-o na variável `series_high_values_size`.\n",
        "\n",
        "Chame a função `q8.check()` no fim da célula para verificar a resposta.\n",
        "Você pode pedir dicas com `q8.hint()` onde n é o número da dica."
      ]
    },
    {
      "cell_type": "code",
      "execution_count": null,
      "metadata": {
        "colab": {
          "base_uri": "https://localhost:8080/",
          "height": 64
        },
        "id": "jRq5nWj5_YCI",
        "outputId": "0ff526bb-c522-4da6-a1a5-97569ecbe94f"
      },
      "outputs": [
        {
          "name": "stdout",
          "output_type": "stream",
          "text": [
            "140\n"
          ]
        },
        {
          "data": {
            "application/javascript": "parent.postMessage({\"jupyterEvent\": \"custom.exercise_interaction\", \"data\": {\"outcomeType\": 1, \"valueTowardsCompletion\": 0.1, \"interactionType\": 1, \"questionType\": 2, \"questionId\": \"8_Q8\", \"learnToolsVersion\": \"1.0.4\", \"failureMessage\": \"\", \"exceptionClass\": \"\", \"trace\": \"\"}}, \"*\")",
            "text/plain": [
              "<IPython.core.display.Javascript object>"
            ]
          },
          "metadata": {},
          "output_type": "display_data"
        },
        {
          "data": {
            "text/markdown": [
              "<span style=\"color:#33cc33\">CORRETO:</span> \n",
              "\n"
            ],
            "text/plain": [
              "CORRETO: \n"
            ]
          },
          "metadata": {},
          "output_type": "display_data"
        }
      ],
      "source": [
        "# q8.hint()\n",
        "\n",
        "series_high_values_size = len(series[series > 500])\n",
        "print(series_high_values_size)\n",
        "\n",
        "q8.check()"
      ]
    },
    {
      "cell_type": "markdown",
      "metadata": {
        "id": "9fqTzqCr_YCJ"
      },
      "source": [
        "## 9. Recupere os valores simultaneamente maiores que 500 e menores que 700 da Série\n",
        "Armazene-o na variável `series_subset_values`.\n",
        "\n",
        "Chame a função `q9.check()` no fim da célula para verificar a resposta.\n",
        "Você pode pedir dicas com `q9.hint()` onde n é o número da dica."
      ]
    },
    {
      "cell_type": "code",
      "execution_count": null,
      "metadata": {
        "id": "MTt9Txfh_YCJ"
      },
      "outputs": [],
      "source": [
        "# q9.hint()\n",
        "\n",
        "series_subset_values = series[(series > 500) & (series < 700)]\n",
        "print(series_subset_values)\n",
        "\n",
        "q9.check()"
      ]
    },
    {
      "cell_type": "markdown",
      "metadata": {
        "id": "1Dr2uCIC_YCJ"
      },
      "source": [
        "## 10. Imprima a raiz quadrada de todos os valores da Série\n",
        "Armazene-os na variável `series_sqrt_values`.\n",
        "\n",
        "**Atenção**: Mantenha o tipo da série como `float64`. Os valores inválidos devem ser `NaN`.\n",
        "\n",
        "Chame a função `q10.check()` no fim da célula para verificar a resposta.\n",
        "Você pode pedir dicas com `q10.hint()` onde n é o número da dica."
      ]
    },
    {
      "cell_type": "code",
      "execution_count": null,
      "metadata": {
        "id": "W8J2Sjv2X7_7"
      },
      "outputs": [],
      "source": [
        "# q10.hint()\n",
        "\n",
        "series_sqrt_values = pow(series,1/2)\n",
        "print(series_sqrt_values)\n",
        "\n",
        "q10.check()"
      ]
    },
    {
      "cell_type": "markdown",
      "metadata": {
        "id": "Jd_q_zl5_YCK"
      },
      "source": [
        "## 11. Faça sua própria ~5ª~ série!\n",
        "\n",
        "Agora é sua vez de brincar com as séries. E bem não é *exatamente* a 5ª série, mas é quase!"
      ]
    },
    {
      "cell_type": "markdown",
      "metadata": {
        "id": "XbaVn97-_YCK"
      },
      "source": [
        "### 11.a.\n",
        "Crie uma série (`pd.Series`) que possui os dados das notas de **todas** as turmas de 5ª série de **todas as disciplinas** de uma escola fictícia. Dê um nome pra essa escola e explique quantas disciplinas essas turmas cursam e quantos alunos possuem em cada sala.\n",
        "\n",
        "Armazene a sua série na variável `grades`.\n",
        "\n",
        "Chame a função `q11.a.check()` no fim da célula para verificar a resposta.\n",
        "Você pode pedir dica com `q11.a.hint()`."
      ]
    },
    {
      "cell_type": "markdown",
      "metadata": {
        "id": "bw1CwZAr_YCK"
      },
      "source": [
        "#### Resposta: A escola Core possui 5 turmas e 5 matérias ao todo, sendo elas: Matemática, Português, Ciências, Geografia e História. Existem 4 alunos em cada sala.\n"
      ]
    },
    {
      "cell_type": "code",
      "execution_count": null,
      "metadata": {
        "id": "x0v7n2tf_YCM"
      },
      "outputs": [],
      "source": [
        "# q11.a.hint()\n",
        "\n",
        "notas = random.sample(range(0,100),100)\n",
        "grades = pd.Series(notas)\n",
        "\n",
        "materia1 = grades[0:21]\n",
        "materia2 = grades[21:41]\n",
        "materia3 = grades[41:61]\n",
        "materia4 = grades[61:81]\n",
        "materia5 = grades[81:101]\n",
        "\n",
        "turma1 = [materia1[0:6],materia2[0:6],materia3[0:6],materia4[0:6],materia5[0:6]]\n",
        "turma2 = [materia1[6:11],materia2[6:11],materia3[6:11],materia4[6:11],materia5[6:11]]\n",
        "turma3 = [materia1[11:16],materia2[11:16],materia3[11:16],materia4[11:16],materia5[11:16]]\n",
        "turma4 = [materia1[16:21],materia2[16:21],materia3[16:21],materia4[16:21],materia5[16:21]]\n",
        "turma5 = [materia1[21:26],materia2[21:26],materia3[21:26],materia4[21:26],materia5[21:26]]\n",
        "\n",
        "print(\"Notas dos alunos matriculados na escola Core\")\n",
        "print(grades)\n",
        "\n",
        "print(\"Notas obtidas em Matemática\")\n",
        "print(materia1)\n",
        "print(\"Notas obtidas em Portugês\")\n",
        "print(materia2)\n",
        "print(\"Notas obtidas em Ciências\")\n",
        "print(materia3)\n",
        "print(\"Notas obtidas em Geografia\")\n",
        "print(materia4)\n",
        "print(\"Notas obtidas em História\")\n",
        "print(materia5)\n",
        "\n",
        "print(\"Notas da turma 1\")\n",
        "print(turma1)\n",
        "print(\"Notas da turma 2\")\n",
        "print(turma2)\n",
        "print(\"Notas da turma 3\")\n",
        "print(turma3)\n",
        "print(\"Notas da turma 4\")\n",
        "print(turma4)\n",
        "print(\"Notas da turma 5\")\n",
        "print(turma5)\n",
        "\n",
        "q11.a.check()"
      ]
    },
    {
      "cell_type": "markdown",
      "metadata": {
        "id": "B6tRkCai_YCN"
      },
      "source": [
        "### 11.b.\n",
        "Agora, usando a série `grades` que você criou, extraia 5 informações que podem ser úteis em uma reunião de pais, análise pedagócica, avaliações, etc.\n",
        "\n",
        "Esta questão não possui `check`.\n",
        "Mas você pode pedir dica com `q11.b.hint()`."
      ]
    },
    {
      "cell_type": "code",
      "execution_count": null,
      "metadata": {
        "id": "C6muNafm_YCN"
      },
      "outputs": [],
      "source": [
        "# q11.b.hint()\n",
        "print(\"Notas obtidas em Matemática maiores que 60\")\n",
        "aprovado = materia1[materia1 > 60]\n",
        "print(aprovado)\n",
        "\n",
        "print(\"Quantidade de alunos aprovados em Geografia\")\n",
        "geo = (materia4[materia4 >= 60]).size\n",
        "print(geo)\n",
        "\n",
        "print(\"Notas obtidas em História menores que 60\")\n",
        "hist = materia5[materia5 < 60]\n",
        "print(hist)\n",
        "\n",
        "print(\"Notas pares em Português\")\n",
        "pt = materia2[materia2 % 2 == 0]\n",
        "print(pt)\n",
        "\n",
        "print(\"Notas impares em Ciências\")\n",
        "ciencia = materia3[materia3 % 2 != 0 ]\n",
        "print(ciencia)"
      ]
    },
    {
      "cell_type": "markdown",
      "metadata": {
        "id": "4mgJ4QyA_YCN"
      },
      "source": [
        "### 11.c.\n",
        "Faça uma breve análise sobre a utilidade e limitações de uma série `pandas`. Também inclua uma opinião pessoal curta se gostou ou não dessa estrutura.\n",
        "\n",
        "Esta questão não possui `check`.\n",
        "Mas você pode pedir dica com `q11.c.hint()`."
      ]
    },
    {
      "cell_type": "code",
      "execution_count": null,
      "metadata": {
        "id": "FAEcBR4E_YCN"
      },
      "outputs": [],
      "source": [
        "# q11.c.hint()"
      ]
    },
    {
      "cell_type": "markdown",
      "metadata": {
        "id": "bgAImaFL_YCN"
      },
      "source": [
        "#### Resposta: A utilização de séries para os desafios propostos na questão 11 torna-se difícil e inviável para certas implementações. Ela pode ser utilizada quando trata-se apenas de uma informação, como uma lista de notas de uma turma em uma única matéria. Entretanto, quando há a necessidade de representar diversos dados, o entendimento da série se torna trabalhoso, uma alternativa pra isso é a utilização de Dataframes."
      ]
    },
    {
      "cell_type": "markdown",
      "metadata": {
        "id": "-wN9Hq9X_YCO"
      },
      "source": []
    }
  ],
  "metadata": {
    "colab": {
      "name": "3881-ViniciusMendes.ipynb",
      "provenance": []
    },
    "kernelspec": {
      "display_name": "Python 3",
      "language": "python",
      "name": "python3"
    },
    "language_info": {
      "codemirror_mode": {
        "name": "ipython",
        "version": 3
      },
      "file_extension": ".py",
      "mimetype": "text/x-python",
      "name": "python",
      "nbconvert_exporter": "python",
      "pygments_lexer": "ipython3",
      "version": "3.9.10"
    }
  },
  "nbformat": 4,
  "nbformat_minor": 0
}
